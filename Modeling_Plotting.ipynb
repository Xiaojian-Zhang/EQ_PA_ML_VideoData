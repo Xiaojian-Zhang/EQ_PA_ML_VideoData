{
 "cells": [
  {
   "cell_type": "code",
   "execution_count": null,
   "id": "067acf23",
   "metadata": {},
   "outputs": [],
   "source": [
    "import pandas as pd\n",
    "import numpy as np\n",
    "import matplotlib.pyplot as plt\n",
    "import time, os, warnings\n",
    "import seaborn as sns\n",
    "from datetime import datetime, date, timedelta\n",
    "from tqdm import trange\n",
    "from sklearn.inspection import permutation_importance, partial_dependence\n",
    "from sklearn.linear_model import LogisticRegression\n",
    "import xgboost as xgb\n",
    "from xgboost import XGBClassifier\n",
    "from sklearn.model_selection import train_test_split, GridSearchCV\n",
    "from sklearn.metrics import multilabel_confusion_matrix, classification_report, confusion_matrix, ConfusionMatrixDisplay, accuracy_score\n",
    "from statsmodels.stats.outliers_influence import variance_inflation_factor\n",
    "warnings.filterwarnings('ignore')"
   ]
  },
  {
   "cell_type": "code",
   "execution_count": null,
   "id": "2eba2bf7",
   "metadata": {},
   "outputs": [],
   "source": [
    "final_data = pd.read_csv('Summarized_Data_UpToDate.csv', index_col = 0)\n",
    "features = final_data.drop('behavioral_state', axis = 1)"
   ]
  },
  {
   "cell_type": "code",
   "execution_count": null,
   "id": "ba5f9ee9",
   "metadata": {},
   "outputs": [],
   "source": [
    "print(f\"The Other state accounts for {final_data[final_data['behavioral_state'] == 0].shape[0] / len(final_data):.4f}\")\n",
    "print(f\"The cover state accounts for {final_data[final_data['behavioral_state'] == 1].shape[0] / len(final_data):.4f}\")\n",
    "print(f\"The hold on state accounts for {final_data[final_data['behavioral_state'] == 2].shape[0] / len(final_data):.4f}\")\n",
    "print(f\"The evacuate state accounts for {final_data[final_data['behavioral_state'] == 3].shape[0] / len(final_data):.4f}\")"
   ]
  },
  {
   "cell_type": "code",
   "execution_count": null,
   "id": "a65fe2bc",
   "metadata": {},
   "outputs": [],
   "source": [
    "def evaluating(estimator, y_true, x_test):\n",
    "    \n",
    "    y_pred = estimator.predict(x_test)\n",
    "    \n",
    "    print(classification_report(y_true, y_pred))\n",
    "    print(f\"Accuracy is {accuracy_score(y_true, y_pred):.4f}\")\n",
    "    \n",
    "    report = classification_report(y_true, y_pred, output_dict=True)\n",
    "    return report"
   ]
  },
  {
   "cell_type": "code",
   "execution_count": null,
   "id": "3c7d0a5f",
   "metadata": {},
   "outputs": [],
   "source": [
    "def calc_vif(X):\n",
    "\n",
    "    # Calculating VIF\n",
    "    vif = pd.DataFrame()\n",
    "    vif[\"variables\"] = X.columns\n",
    "    vif[\"VIF\"] = [variance_inflation_factor(X.values, i) for i in range(X.shape[1])]\n",
    "    vif.set_index('variables', inplace = True)\n",
    "    return(vif)"
   ]
  },
  {
   "cell_type": "code",
   "execution_count": null,
   "id": "b639c724",
   "metadata": {},
   "outputs": [],
   "source": [
    "vif = calc_vif(features.drop(['DM_group_size','child_present'], axis = 1))"
   ]
  },
  {
   "cell_type": "code",
   "execution_count": null,
   "id": "4af66657",
   "metadata": {},
   "outputs": [],
   "source": [
    "vif"
   ]
  },
  {
   "cell_type": "code",
   "execution_count": null,
   "id": "c7cb4a1a",
   "metadata": {},
   "outputs": [],
   "source": [
    "features = features.drop(['DM_group_size','child_present'], axis = 1)"
   ]
  },
  {
   "cell_type": "markdown",
   "id": "967b290d",
   "metadata": {},
   "source": [
    "### Split train-test"
   ]
  },
  {
   "cell_type": "code",
   "execution_count": null,
   "id": "e562b770",
   "metadata": {},
   "outputs": [],
   "source": [
    "x = features.values\n",
    "y = final_data['behavioral_state'].values\n",
    "X_train, X_test, y_train, y_test = train_test_split(x, y, test_size=0.1, stratify=y, random_state=42)"
   ]
  },
  {
   "cell_type": "markdown",
   "id": "4b3f1e7d",
   "metadata": {},
   "source": [
    "### Hyperparameter tuning"
   ]
  },
  {
   "cell_type": "markdown",
   "id": "a52cf1e7",
   "metadata": {},
   "source": [
    "#### MNL train set"
   ]
  },
  {
   "cell_type": "code",
   "execution_count": null,
   "id": "f8c0b158",
   "metadata": {
    "scrolled": false
   },
   "outputs": [],
   "source": [
    "y, X = y_train, X_train\n",
    "y = y.reshape(-1, 1) \n",
    "clf = LogisticRegression(random_state=200, multi_class = 'multinomial').fit(X, y)\n",
    "print(clf.score(X, y))\n",
    "ConfusionMatrixDisplay.from_estimator(clf, X, y)\n",
    "# plt.savefig('../figures/multinomial_train.jpg', dpi = 150, bbox_inches = 'tight')"
   ]
  },
  {
   "cell_type": "code",
   "execution_count": null,
   "id": "2577ff84",
   "metadata": {
    "scrolled": true
   },
   "outputs": [],
   "source": [
    "report = evaluating(clf, y, X)\n",
    "pd.DataFrame(report).transpose()"
   ]
  },
  {
   "cell_type": "markdown",
   "id": "9d8b047d",
   "metadata": {},
   "source": [
    "#### MNL test set"
   ]
  },
  {
   "cell_type": "code",
   "execution_count": null,
   "id": "29c25cfd",
   "metadata": {},
   "outputs": [],
   "source": [
    "y, X = y_test, X_test\n",
    "y = y.reshape(-1, 1) \n",
    "clf = LogisticRegression(random_state=200, multi_class = 'multinomial').fit(X, y)\n",
    "print(clf.score(X, y))\n",
    "ConfusionMatrixDisplay.from_estimator(clf, X, y)\n",
    "# plt.savefig('../figures/multinomial_test.jpg', dpi = 150, bbox_inches = 'tight')"
   ]
  },
  {
   "cell_type": "code",
   "execution_count": null,
   "id": "06ca4c52",
   "metadata": {},
   "outputs": [],
   "source": [
    "report = evaluating(clf, y, X)\n",
    "pd.DataFrame(report).transpose()"
   ]
  },
  {
   "cell_type": "markdown",
   "id": "6ac54594",
   "metadata": {},
   "source": [
    "#### XGBoost train set"
   ]
  },
  {
   "cell_type": "code",
   "execution_count": null,
   "id": "def6e4f6",
   "metadata": {},
   "outputs": [],
   "source": [
    "param_grid = {\n",
    "    'n_estimators': np.arange(100, 701, 100),\n",
    "    'learning_rate': [0.01, 0.02, 0.03, 0.04, 0.05],\n",
    "    # Add other parameters here\n",
    "    'max_depth': [4,5,6],\n",
    "}\n",
    "\n",
    "xgb = XGBClassifier(random_state = 200, importance_type = 'gain')\n",
    "grid_search = GridSearchCV(estimator=xgb, param_grid=param_grid, cv=5, scoring='accuracy', verbose=1, n_jobs = -1)\n",
    "\n",
    "grid_search.fit(X_train, y_train)\n",
    "\n",
    "best_parameters = grid_search.best_params_\n",
    "best_score = grid_search.best_score_\n",
    "print(f\"Best Parameters: {best_parameters}\")\n",
    "print(f\"Best Score: {best_score}\")\n",
    "\n",
    "best_model = grid_search.best_estimator_"
   ]
  },
  {
   "cell_type": "code",
   "execution_count": null,
   "id": "9968f826",
   "metadata": {},
   "outputs": [],
   "source": [
    "y, X = y_train, X_train\n",
    "y = y.reshape(-1, 1) \n",
    "clf = XGBClassifier(learning_rate = 0.04, max_depth = 5, n_estimators = 100,\n",
    "                    random_state=200, importance_type = 'gain', n_jobs = -1).fit(X, y)\n",
    "print(clf.score(X, y))\n",
    "ConfusionMatrixDisplay.from_estimator(clf, X, y)\n",
    "# plt.savefig('../figures/xgboost_train.jpg', dpi = 150, bbox_inches = 'tight')"
   ]
  },
  {
   "cell_type": "code",
   "execution_count": null,
   "id": "32f78037",
   "metadata": {},
   "outputs": [],
   "source": [
    "report = evaluating(clf, y, X)\n",
    "pd.DataFrame(report).transpose()"
   ]
  },
  {
   "cell_type": "markdown",
   "id": "40dac71c",
   "metadata": {},
   "source": [
    "#### XGBoost test set"
   ]
  },
  {
   "cell_type": "code",
   "execution_count": null,
   "id": "a03cca54",
   "metadata": {},
   "outputs": [],
   "source": [
    "y, X = y_test, X_test\n",
    "y = y.reshape(-1, 1) \n",
    "clf = XGBClassifier(learning_rate = 0.04, max_depth = 5, n_estimators = 100,\n",
    "                    random_state=200, importance_type = 'gain', n_jobs = -1).fit(X, y)\n",
    "print(clf.score(X, y))"
   ]
  },
  {
   "cell_type": "code",
   "execution_count": null,
   "id": "381f2931",
   "metadata": {},
   "outputs": [],
   "source": [
    "y, X = y_test, X_test\n",
    "y = y.reshape(-1, 1) \n",
    "clf = XGBClassifier(learning_rate = 0.04, max_depth = 5, n_estimators = 100,\n",
    "                    random_state=200, importance_type = 'gain', n_jobs = -1).fit(X, y)\n",
    "print(clf.score(X, y))\n",
    "ConfusionMatrixDisplay.from_estimator(clf, X, y)\n",
    "# plt.savefig('../figures/xgboost_test.jpg', dpi = 150, bbox_inches = 'tight')"
   ]
  },
  {
   "cell_type": "code",
   "execution_count": null,
   "id": "7e00824b",
   "metadata": {},
   "outputs": [],
   "source": [
    "report = evaluating(clf, y, X)\n",
    "pd.DataFrame(report).transpose()"
   ]
  },
  {
   "cell_type": "markdown",
   "id": "d8c54674",
   "metadata": {},
   "source": [
    "### Feature importance"
   ]
  },
  {
   "cell_type": "code",
   "execution_count": null,
   "id": "6085319c",
   "metadata": {},
   "outputs": [],
   "source": [
    "# ['alarm_on', 'start_pos_DM', 'envir_crowded', 'shaking_intensity',\n",
    "#        'obstacle_floor', 'DM_far_egress', 'cover_availability', 'time_elapsed',\n",
    "#        'public_setting', 'num_people', 'DM_leader']\n",
    "\n",
    "feature_names = ['Alarm_On', 'Start_Pos_DM', 'Envir_Crowded', 'Shaking_Intensity',\n",
    "       'Obstacle_Floor', 'DM_Far_Egress', 'Cover_Availability', 'Time_Elapsed',\n",
    "       'Public_Setting', 'Num_People', 'DM_Leader']\n",
    "\n",
    "feature_names = ['Whether the alarm is on',\n",
    "                 'Starting position of the decision-maker',\n",
    "                 'Whether the environment is crowded',\n",
    "                 'Shaking intensity',\n",
    "                   'Whether there is obstacle on the floor',\n",
    "                 'Whether the decision-maker is far from the egress',\n",
    "                 'Whether there is cover in the environment',\n",
    "                 'Time elapsed after shaking',\n",
    "                'Whether it is a public setting',\n",
    "                 'Number of people shown in the environment',\n",
    "                 'Whether the decision-maker is a leader']"
   ]
  },
  {
   "cell_type": "code",
   "execution_count": null,
   "id": "05892b0c",
   "metadata": {},
   "outputs": [],
   "source": [
    "#feature importances with \"Gain\" method\n",
    "plt.close('all')\n",
    "importances_RF = clf.feature_importances_*100 # train set\n",
    "indices_RF = np.argsort(importances_RF)[::-1]\n",
    "\n",
    "print(\"Feature ranking:\")\n",
    "\n",
    "for f in range(features.shape[1]):\n",
    "     print(\"%d. col.%d %s (%f)\" % (f + 1, indices_RF[f],\n",
    "                                   features.columns[indices_RF[f]], importances_RF[indices_RF[f]]))\n",
    "\n",
    "num_bars = 11\n",
    "plt.figure(figsize=[8,8],dpi=200)\n",
    "plt.title(\"\")\n",
    "plt.barh(range(num_bars), importances_RF[indices_RF[range(num_bars-1,-1,-1)]])\n",
    "plt.yticks(range(num_bars), feature_names)\n",
    "plt.ylim([-1, num_bars])\n",
    "plt.xlim([0,20])\n",
    "plt.xlabel(\"Relative Feature importance (%)\")\n",
    "# plt.ylabel(\"Feature\")\n",
    "plt.grid(b=1,linestyle='--')\n",
    "for a, b in enumerate(importances_RF[indices_RF[range(num_bars-1,-1,-1)]]):\n",
    "    b=round(b,2)\n",
    "    plt.text(b+0.75, a-0.3, '%s' % format(b,'.2f'), ha='center', va='bottom')\n",
    "plt.savefig('../../USGS/figures/xgb_feature_importance.jpg', dpi = 200, bbox_inches = 'tight')\n",
    "plt.show()"
   ]
  },
  {
   "cell_type": "markdown",
   "id": "3714177c",
   "metadata": {},
   "source": [
    "## PDP"
   ]
  },
  {
   "cell_type": "code",
   "execution_count": null,
   "id": "daabfdc1",
   "metadata": {},
   "outputs": [],
   "source": [
    "class_names = ['Other','Drop and Cover', 'Hold on', 'Evacuate']"
   ]
  },
  {
   "cell_type": "code",
   "execution_count": null,
   "id": "386c037b",
   "metadata": {},
   "outputs": [],
   "source": [
    "def value_grid(data, feature, grid_size):\n",
    "    max_value = data[feature].max()\n",
    "    min_value = data[feature].min()\n",
    "    values = np.linspace(min_value, max_value, grid_size)\n",
    "    return values\n",
    "\n",
    "def value_unique(data, feature):\n",
    "    values = data[feature].sort_values().unique()\n",
    "    return values\n",
    "\n",
    "def make_predictions(data_x, feature, value_grid, estimator):\n",
    "    every_value_prediction = []\n",
    "    for i in range(len(value_grid)):\n",
    "        this_prediction_data = data_x.copy()\n",
    "        this_prediction_data[feature] = value_grid[i]\n",
    "        this_prediction = estimator.predict_proba(this_prediction_data)\n",
    "        every_value_prediction.append(this_prediction)\n",
    "    return every_value_prediction\n",
    "\n",
    "def get_average(every_value_prediction):\n",
    "    predictions = []\n",
    "    for i in range(len(every_value_prediction)):\n",
    "        predictions.append([])\n",
    "        for j in range(n_class):\n",
    "            predictions[i].append(every_value_prediction[i][:, j].mean())\n",
    "    return np.array(predictions)"
   ]
  },
  {
   "cell_type": "code",
   "execution_count": null,
   "id": "d4e80b55",
   "metadata": {},
   "outputs": [],
   "source": [
    "def get_partial_dependence_unique():\n",
    "\n",
    "    partial_dependece = {}\n",
    "\n",
    "    values = value_unique(data, feature)\n",
    "\n",
    "    every_value_prediction = make_predictions(data, feature, values, estimator)\n",
    "\n",
    "    average_prediction = get_average(every_value_prediction)\n",
    "\n",
    "    partial_dependece['average'] = np.array(average_prediction)\n",
    "\n",
    "    partial_dependece['values'] = values\n",
    "\n",
    "    return partial_dependece\n",
    "\n",
    "def get_partial_dependence_continuous():\n",
    "\n",
    "    partial_dependece = {}\n",
    "\n",
    "    values = value_grid(data, feature, grid_size)\n",
    "\n",
    "    every_value_prediction = make_predictions(data, feature, values, estimator)\n",
    "\n",
    "    average_prediction = get_average(every_value_prediction)\n",
    "\n",
    "    partial_dependece['average'] = np.array(average_prediction)\n",
    "\n",
    "    partial_dependece['values'] = values\n",
    "\n",
    "    return partial_dependece"
   ]
  },
  {
   "cell_type": "code",
   "execution_count": null,
   "id": "686914d8",
   "metadata": {},
   "outputs": [],
   "source": [
    "def plot_pdp(pdp_dic, name, xlabel):\n",
    "    for j in range(n_class):\n",
    "        plt.plot(pdp_dic[name]['values'], pdp_dic[name]['average'][:, j],color='k')\n",
    "        sns.rugplot(features[name], color='k')\n",
    "        plt.ylabel('Probability for {}'.format(class_names[j]),fontsize=15)\n",
    "        plt.xlabel(xlabel,fontsize=15)\n",
    "        plt.xticks(fontsize=13)\n",
    "        plt.yticks(fontsize=13)\n",
    "        plt.savefig('../../USGS/figures/pdp/xgboost/{} for class {}.jpg'.format(name, class_names[j]),\n",
    "                    dpi=150,bbox_inches='tight')\n",
    "        plt.show()"
   ]
  },
  {
   "cell_type": "code",
   "execution_count": null,
   "id": "3531e2e0",
   "metadata": {},
   "outputs": [],
   "source": [
    "features.columns"
   ]
  },
  {
   "cell_type": "code",
   "execution_count": null,
   "id": "ade2d8b9",
   "metadata": {},
   "outputs": [],
   "source": [
    "continuous_features = ['time_elapsed']\n",
    "unique_features = ['shaking_intensity', 'envir_crowded',\n",
    "       'cover_availability', 'obstacle_floor', 'start_pos_DM', 'num_people',\n",
    "                   'public_setting', 'alarm_on', 'DM_leader',\n",
    "       'DM_far_egress']\n",
    "class_names = ['Other','Drop and cover', 'Hold on', 'Evacuate']\n",
    "n_class = 4\n",
    "grid_size = 50\n",
    "estimator = clf"
   ]
  },
  {
   "cell_type": "code",
   "execution_count": null,
   "id": "06ad17bd",
   "metadata": {},
   "outputs": [],
   "source": [
    "data = features\n",
    "\n",
    "start = time.time()\n",
    "\n",
    "continuous_partial_dependence_dic = {}\n",
    "\n",
    "for feature in continuous_features:\n",
    "    \n",
    "    print('{} starts'.format(feature))\n",
    "    print('  ')\n",
    "\n",
    "    continuous_partial_dependence_dic[feature] = get_partial_dependence_continuous()\n",
    "\n",
    "    print('time elapsed: ')\n",
    "    print(time.time() - start)\n",
    "    print('{} ends'.format(feature))\n",
    "    \n",
    "continuous_partial_dependence_dic"
   ]
  },
  {
   "cell_type": "code",
   "execution_count": null,
   "id": "da3cecf9",
   "metadata": {},
   "outputs": [],
   "source": [
    "plot_pdp(continuous_partial_dependence_dic, 'time_elapsed', 'Time elapsed after shaking')"
   ]
  },
  {
   "cell_type": "code",
   "execution_count": null,
   "id": "45d58cc5",
   "metadata": {},
   "outputs": [],
   "source": [
    "data = features\n",
    "\n",
    "start = time.time()\n",
    "\n",
    "unique_partial_dependence_dic = {}\n",
    "\n",
    "for feature in unique_features:\n",
    "    \n",
    "    print('{} starts'.format(feature))\n",
    "    print('  ')\n",
    "\n",
    "    unique_partial_dependence_dic[feature] = get_partial_dependence_unique()\n",
    "\n",
    "    print('time elapsed: ')\n",
    "    print(time.time() - start)\n",
    "    print('{} ends'.format(feature))\n",
    "     \n",
    "unique_partial_dependence_dic"
   ]
  },
  {
   "cell_type": "code",
   "execution_count": null,
   "id": "1de65a1b",
   "metadata": {},
   "outputs": [],
   "source": [
    "plot_pdp(unique_partial_dependence_dic, 'shaking_intensity', 'Shaking intensity')"
   ]
  },
  {
   "cell_type": "code",
   "execution_count": null,
   "id": "4d5722b3",
   "metadata": {},
   "outputs": [],
   "source": [
    "plot_pdp(unique_partial_dependence_dic, 'start_pos_DM', 'Starting position of the decision-maker')"
   ]
  },
  {
   "cell_type": "code",
   "execution_count": null,
   "id": "f571c068",
   "metadata": {},
   "outputs": [],
   "source": [
    "plot_pdp(unique_partial_dependence_dic, 'num_people', 'Number of people shown in the environment')"
   ]
  },
  {
   "cell_type": "code",
   "execution_count": null,
   "id": "d6e4150c",
   "metadata": {},
   "outputs": [],
   "source": [
    "def plot_dummy(pdp_dic, name, xlabel):\n",
    "    for j in range(n_class):\n",
    "        plt.scatter(pdp_dic[name]['values'], pdp_dic[name]['average'][:, j],color='k')\n",
    "        sns.rugplot(features[name], color='k')\n",
    "        plt.ylabel('Probability for {}'.format(class_names[j]),fontsize=15)\n",
    "        plt.xlabel(xlabel,fontsize=15)\n",
    "        plt.xticks(fontsize=13)\n",
    "        plt.yticks(fontsize=13)\n",
    "        plt.savefig('../../USGS/figures/pdp/xgboost/{} for class {}.jpg'.format(name, class_names[j]),\n",
    "                    dpi=150,bbox_inches='tight')\n",
    "        plt.show()"
   ]
  },
  {
   "cell_type": "code",
   "execution_count": null,
   "id": "8f5aaa13",
   "metadata": {},
   "outputs": [],
   "source": [
    "plot_dummy(unique_partial_dependence_dic, 'DM_leader', 'Whether the decision-maker is a leader')"
   ]
  },
  {
   "cell_type": "code",
   "execution_count": null,
   "id": "7a3adae6",
   "metadata": {},
   "outputs": [],
   "source": [
    "plot_dummy(unique_partial_dependence_dic, 'public_setting', 'Whether it is a public setting')"
   ]
  },
  {
   "cell_type": "code",
   "execution_count": null,
   "id": "d40acc81",
   "metadata": {},
   "outputs": [],
   "source": [
    "plot_dummy(unique_partial_dependence_dic, 'envir_crowded', 'Whether the environment is crowded')"
   ]
  },
  {
   "cell_type": "code",
   "execution_count": null,
   "id": "f5d02eee",
   "metadata": {},
   "outputs": [],
   "source": [
    "plot_dummy(unique_partial_dependence_dic, 'obstacle_floor', 'Whether there is obstacle on the floor')"
   ]
  },
  {
   "cell_type": "code",
   "execution_count": null,
   "id": "dd3713a9",
   "metadata": {},
   "outputs": [],
   "source": [
    "plot_dummy(unique_partial_dependence_dic, 'DM_far_egress', 'Whether the decision-maker is far from the egress')"
   ]
  },
  {
   "cell_type": "code",
   "execution_count": null,
   "id": "a0788206",
   "metadata": {},
   "outputs": [],
   "source": [
    "plot_dummy(unique_partial_dependence_dic, 'cover_availability', 'Whether there is cover in the environment')"
   ]
  },
  {
   "cell_type": "code",
   "execution_count": null,
   "id": "7e3e5e10",
   "metadata": {},
   "outputs": [],
   "source": [
    "plot_dummy(unique_partial_dependence_dic, 'alarm_on', 'Whether the alarm is on')                                                                                                                                                                                                                                                                                                                                                                                              "
   ]
  }
 ],
 "metadata": {
  "kernelspec": {
   "display_name": "Python 3 (ipykernel)",
   "language": "python",
   "name": "python3"
  },
  "language_info": {
   "codemirror_mode": {
    "name": "ipython",
    "version": 3
   },
   "file_extension": ".py",
   "mimetype": "text/x-python",
   "name": "python",
   "nbconvert_exporter": "python",
   "pygments_lexer": "ipython3",
   "version": "3.9.16"
  }
 },
 "nbformat": 4,
 "nbformat_minor": 5
}
